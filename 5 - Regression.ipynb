{
 "cells": [
  {
   "cell_type": "markdown",
   "metadata": {},
   "source": [
    "# 5. Regression\n",
    "\n",
    "Regression analysis attempts to identify a relationship between a set of variables and some continuous outcome value. The outcome value is typically called the **dependent variable**, since it depends on the other variables, while these additional variables are called **independent variables** or **input variables**. Use cases of regression analysis include:\n",
    "\n",
    "**Real Estate**: Regression can be used to model the price of a home based on characteristics like living area. The model can then be used to predict the price of homes, and can be improved by including information about other characteristics like number of bathrooms, number of bedrooms, etc.\n",
    "    \n",
    "**Demand Forecasting**: Businesses and governments can use regression to predict demand for goods and services. For instance, a restaurant could use weather and date information to predict demand for certain dishes.\n",
    "    \n",
    "**Medical**: A linear regression model can be used to analyse the effect of a proposed radiation treatment on reducing tumor sizes. The input variables might include the duration of a single radiation treatment, frequency of radiation and patient attributes such as age or weight.\n",
    "\n",
    "## 5.1 Label, Features and Training Examples\n",
    "\n",
    "The **label** is the variable which we are trying to estimate. This could be a house price, weather temperature or even a categorical label like brand of car. Usually we use the letter $y$ to denote the label variable. It is also known as the dependant variable or target variable.\n",
    "\n",
    "A **feature** is an input variable which we use to estimate a label. We can have one or many features for each label. We use the letter $x$ to denote features. Some examples of features could be the size of a house, the number of bedrooms, distance to a school etc. When we have many features for a label we can write them as a vector.\n",
    "$$ \\mathbf x  = [x_1, x_2, ..., x_p] $$\n",
    "\n",
    "An **example** or **observation** is a pairing of label and feature. We use training examples to train a model. In other words, given a set of data features $\\mathbf x$ we adjust our model so that we get an accurate prediction for $y$.\n",
    "$$ [x_1, x_2, ..., x_p] \\rightarrow y $$\n",
    "\n",
    "An example of features and target for the house price example might include Square Feet, Bedrooms and Bathrooms as Features and the Price as the label.\n",
    "\n",
    "<img src=\"img/feature_target_table.png\" width=640>\n",
    "\n",
    "## 5.2 Training and Inference\n",
    "\n",
    "Once we have determined what the target variable and feature variables are our next step is to build and test a model. There are two main stages to this process:\n",
    "\n",
    "- **Training** refers to the learning process. We give the model training examples and the model corrects itself to model or learn the relationships between the features and label.\n",
    "- **Inference** is the process of applying our model to new data. You use the trained model to make predictions.\n",
    "\n",
    "<img src=\"img/training_inference.png\" width=840>\n",
    "\n",
    "\n",
    "## 5.3 Linear Regression\n",
    "\n",
    "A regression model means a model that predicts a label that is continuous based on a set of features. House prices and temperatures are examples of continuous variables that can be modeled using regression. Variables like brand of car or blood type are not continuous and can be desribed as discrete.\n",
    "\n",
    "Generally there are two types of linear regression:\n",
    "\n",
    "**Simple Linear Regression**\n",
    "$$ y = \\beta_0 + \\beta_1 x $$\n",
    "\n",
    "This is also the general equation for a line in the $x-y$ plane. $y$ is the outcome variable and $x$ is a single input or feature variable. $\\beta_0$ is the intercept, or the $y$ value where the line meets the y-axis ($x=0$). $\\beta_1$ is the slope of the line (the tangent of the angle of the line with the x-axis), or equivalently, the change in $y$ induced by a unit increment of the feature variable $x$. A visualisation of simple linear regression is shown below. The model is a line in the $x-y$ plane.\n",
    "\n",
    "<img src=\"img/regression.png\" width=400>\n",
    "\n",
    "**Multiple Linear Regression**\n",
    "$$ y = \\beta_0 + \\beta_1 x_1 + \\dots + \\beta_p x_p$$\n",
    "\n",
    "This is the general equation for a hyperplane in the $p+1$ dimensional space spanned by $y-x_p$. $x_p$ are the input or feature variables, while $\\beta_p$ represent the slope of the hyperplane along the $x_p$ axes. A visualisation of multiple linear regression with two feature variables is shown below. The model is a plane in 3D $(x_1,x_2,y)$ space.\n",
    "\n",
    "<img src=\"img/multiple_regression.jpg\" width=250>\n",
    "\n",
    "A regression model can be uniquely described by the parameters $\\boldsymbol \\beta$. They can be interpreted as the effect or weight that each feature has on the value of the target, keeping all other features constant. Training a regression model is the process of finding the best $\\boldsymbol \\beta$ parameters to minimise the error between training target and predicted target values.\n",
    "\n",
    "**Simple** means that we only use one feature in this process, whereas **Multiple** regression means that we use multiple features in the model to explain the target variable.\n",
    "\n",
    "## 5.4 Ordinary Least Squares method\n",
    "\n",
    "The method of Ordinary Least Squares (OLS) chooses the optimal parameters of a linear model by minimising the squares of the differences between target values and predicted values. In other words, the OLS method attempts to minimise the sum of the squares of the vertical distances (residuals) shown by the dotted lines below.\n",
    "\n",
    "<img src=\"img/residuals.png\" width=350>\n",
    "\n",
    "The process of identifying these values is referred to as **training**.\n",
    "\n",
    "For a true target value $y_t$, we can write:\n",
    "$$ y_t = \\beta_0 + \\beta_1 x_1 + \\dots + \\beta_p x_p + e $$\n",
    "\n",
    "If we define the residuals $e$ as the difference between the target and the predicted value:\n",
    "$$ e = y_t - \\beta_0 + \\beta_1 x_1 + \\dots + \\beta_p x_p $$\n",
    "\n",
    "then our objective becomes to minimise the square of the residuals: \n",
    "$$e^2 = ( y_t - \\beta_0 + \\beta_1 x_1 + \\dots + \\beta_p x_p ) ^ 2 $$\n",
    "\n",
    "for all $n$ training examples:\n",
    "\n",
    "$$ \\min_{\\beta_0, \\beta_1, \\dots, \\beta_p} \\sum_{0}^{n}( y_t - \\beta_0 + \\beta_1 x_{1i} + \\dots + \\beta_p x_{pi} ) ^ 2 $$\n",
    "\n",
    "Under the assumption of normally distributed errors (see Normality Assumption below), the OLS method is equivalent to Maximum Likelihood Estimation.\n",
    "\n",
    "## 5.5 House Price Example\n",
    "\n",
    "Let's look at an example using house price data collected in Baton Rouge, Louisiana, US, from mid-2005.\n",
    "\n",
    "The following variables are included in the file BatonRouge.csv:\n",
    "\n",
    "- Price: The price the house sold for\n",
    "- Square Feet: The size of the house in square feet\n",
    "- Beds: The number of bedrooms in the house\n",
    "- Baths: The number of bathrooms in the house\n",
    "- Age: The age of the house in years\n",
    "- Pool: Does the house have a pool (yes/no)\n",
    "- Fireplace: Does the house have a fireplace (yes/no)\n",
    "- Waterfront: Is the house on the waterfront (yes/no)\n",
    "- Days on Market: How many days the house spent on the market before it was ultimately sold\n",
    "\n",
    "### 5.5.1 Framing the Problem\n",
    "\n",
    "Given the Baton Rouge data we can do many regressions depending on which variable we select as the target or features. However there are two guiding questions you can ask yourself:\n",
    "\n",
    "- Which variable can you estimate from the others? (what is the dependency order of variables)\n",
    "- What is your goal?\n",
    "\n",
    "In this example our goal is to estimate the house price. House price is the most obvious dependent variable. All others have only weak dependency on each other. For example we expect that a bigger house is more expensive. But a more expensive house is not always bigger (due to factors such as location).\n",
    "\n",
    "**Target**: Price\n",
    "\n",
    "**Features**: All other variables"
   ]
  },
  {
   "cell_type": "markdown",
   "metadata": {},
   "source": [
    "### 5.5.2 Simple Linear Regression Model"
   ]
  },
  {
   "cell_type": "code",
   "execution_count": 15,
   "metadata": {},
   "outputs": [
    {
     "data": {
      "text/html": [
       "<table>\n",
       "<caption>A data.frame: 6 × 10</caption>\n",
       "<thead>\n",
       "\t<tr><th></th><th scope=col>Price</th><th scope=col>SQFT</th><th scope=col>Bedrooms</th><th scope=col>Baths</th><th scope=col>Age</th><th scope=col>Occupancy</th><th scope=col>Pool</th><th scope=col>Fireplace</th><th scope=col>Waterfront</th><th scope=col>DOM</th></tr>\n",
       "\t<tr><th></th><th scope=col>&lt;int&gt;</th><th scope=col>&lt;int&gt;</th><th scope=col>&lt;int&gt;</th><th scope=col>&lt;int&gt;</th><th scope=col>&lt;int&gt;</th><th scope=col>&lt;int&gt;</th><th scope=col>&lt;int&gt;</th><th scope=col>&lt;int&gt;</th><th scope=col>&lt;int&gt;</th><th scope=col>&lt;int&gt;</th></tr>\n",
       "</thead>\n",
       "<tbody>\n",
       "\t<tr><th scope=row>0</th><td> 66500</td><td> 741</td><td>1</td><td>1</td><td>18</td><td>1</td><td>1</td><td>1</td><td>0</td><td>  6</td></tr>\n",
       "\t<tr><th scope=row>1</th><td> 66000</td><td> 741</td><td>1</td><td>1</td><td>18</td><td>2</td><td>1</td><td>0</td><td>0</td><td> 23</td></tr>\n",
       "\t<tr><th scope=row>2</th><td> 68500</td><td> 790</td><td>1</td><td>1</td><td>18</td><td>1</td><td>0</td><td>1</td><td>0</td><td>  8</td></tr>\n",
       "\t<tr><th scope=row>3</th><td>102000</td><td>2783</td><td>2</td><td>2</td><td>18</td><td>1</td><td>0</td><td>1</td><td>0</td><td> 50</td></tr>\n",
       "\t<tr><th scope=row>4</th><td> 54000</td><td>1165</td><td>2</td><td>1</td><td>35</td><td>2</td><td>0</td><td>0</td><td>0</td><td>190</td></tr>\n",
       "\t<tr><th scope=row>5</th><td>143000</td><td>2331</td><td>2</td><td>2</td><td>25</td><td>1</td><td>0</td><td>1</td><td>0</td><td> 86</td></tr>\n",
       "</tbody>\n",
       "</table>\n"
      ],
      "text/latex": [
       "A data.frame: 6 × 10\n",
       "\\begin{tabular}{r|llllllllll}\n",
       "  & Price & SQFT & Bedrooms & Baths & Age & Occupancy & Pool & Fireplace & Waterfront & DOM\\\\\n",
       "  & <int> & <int> & <int> & <int> & <int> & <int> & <int> & <int> & <int> & <int>\\\\\n",
       "\\hline\n",
       "\t0 &  66500 &  741 & 1 & 1 & 18 & 1 & 1 & 1 & 0 &   6\\\\\n",
       "\t1 &  66000 &  741 & 1 & 1 & 18 & 2 & 1 & 0 & 0 &  23\\\\\n",
       "\t2 &  68500 &  790 & 1 & 1 & 18 & 1 & 0 & 1 & 0 &   8\\\\\n",
       "\t3 & 102000 & 2783 & 2 & 2 & 18 & 1 & 0 & 1 & 0 &  50\\\\\n",
       "\t4 &  54000 & 1165 & 2 & 1 & 35 & 2 & 0 & 0 & 0 & 190\\\\\n",
       "\t5 & 143000 & 2331 & 2 & 2 & 25 & 1 & 0 & 1 & 0 &  86\\\\\n",
       "\\end{tabular}\n"
      ],
      "text/markdown": [
       "\n",
       "A data.frame: 6 × 10\n",
       "\n",
       "| <!--/--> | Price &lt;int&gt; | SQFT &lt;int&gt; | Bedrooms &lt;int&gt; | Baths &lt;int&gt; | Age &lt;int&gt; | Occupancy &lt;int&gt; | Pool &lt;int&gt; | Fireplace &lt;int&gt; | Waterfront &lt;int&gt; | DOM &lt;int&gt; |\n",
       "|---|---|---|---|---|---|---|---|---|---|---|\n",
       "| 0 |  66500 |  741 | 1 | 1 | 18 | 1 | 1 | 1 | 0 |   6 |\n",
       "| 1 |  66000 |  741 | 1 | 1 | 18 | 2 | 1 | 0 | 0 |  23 |\n",
       "| 2 |  68500 |  790 | 1 | 1 | 18 | 1 | 0 | 1 | 0 |   8 |\n",
       "| 3 | 102000 | 2783 | 2 | 2 | 18 | 1 | 0 | 1 | 0 |  50 |\n",
       "| 4 |  54000 | 1165 | 2 | 1 | 35 | 2 | 0 | 0 | 0 | 190 |\n",
       "| 5 | 143000 | 2331 | 2 | 2 | 25 | 1 | 0 | 1 | 0 |  86 |\n",
       "\n"
      ],
      "text/plain": [
       "  Price  SQFT Bedrooms Baths Age Occupancy Pool Fireplace Waterfront DOM\n",
       "0  66500  741 1        1     18  1         1    1         0            6\n",
       "1  66000  741 1        1     18  2         1    0         0           23\n",
       "2  68500  790 1        1     18  1         0    1         0            8\n",
       "3 102000 2783 2        2     18  1         0    1         0           50\n",
       "4  54000 1165 2        1     35  2         0    0         0          190\n",
       "5 143000 2331 2        2     25  1         0    1         0           86"
      ]
     },
     "metadata": {},
     "output_type": "display_data"
    }
   ],
   "source": [
    "# Load the data. The first column is just a row index, so we use 'row.names = 1'\n",
    "br <- read.csv('BatonRouge.csv', row.names = 1)\n",
    "\n",
    "head(br)"
   ]
  },
  {
   "cell_type": "markdown",
   "metadata": {},
   "source": [
    "Let's first identify which variable linearly correlates most strongly with the target variable `Price`."
   ]
  },
  {
   "cell_type": "code",
   "execution_count": 16,
   "metadata": {},
   "outputs": [
    {
     "data": {
      "text/html": [
       "<dl class=dl-horizontal>\n",
       "\t<dt>Price</dt>\n",
       "\t\t<dd>1</dd>\n",
       "\t<dt>SQFT</dt>\n",
       "\t\t<dd>0.760689174082246</dd>\n",
       "\t<dt>Bedrooms</dt>\n",
       "\t\t<dd>0.455189274657574</dd>\n",
       "\t<dt>Baths</dt>\n",
       "\t\t<dd>0.645340796822376</dd>\n",
       "\t<dt>Age</dt>\n",
       "\t\t<dd>-0.208608933147585</dd>\n",
       "\t<dt>Occupancy</dt>\n",
       "\t\t<dd>-0.206715518816963</dd>\n",
       "\t<dt>Pool</dt>\n",
       "\t\t<dd>0.202268683895296</dd>\n",
       "\t<dt>Fireplace</dt>\n",
       "\t\t<dd>0.310625728163814</dd>\n",
       "\t<dt>Waterfront</dt>\n",
       "\t\t<dd>0.30993997011312</dd>\n",
       "\t<dt>DOM</dt>\n",
       "\t\t<dd>0.0789293381675005</dd>\n",
       "</dl>\n"
      ],
      "text/latex": [
       "\\begin{description*}\n",
       "\\item[Price] 1\n",
       "\\item[SQFT] 0.760689174082246\n",
       "\\item[Bedrooms] 0.455189274657574\n",
       "\\item[Baths] 0.645340796822376\n",
       "\\item[Age] -0.208608933147585\n",
       "\\item[Occupancy] -0.206715518816963\n",
       "\\item[Pool] 0.202268683895296\n",
       "\\item[Fireplace] 0.310625728163814\n",
       "\\item[Waterfront] 0.30993997011312\n",
       "\\item[DOM] 0.0789293381675005\n",
       "\\end{description*}\n"
      ],
      "text/markdown": [
       "Price\n",
       ":   1SQFT\n",
       ":   0.760689174082246Bedrooms\n",
       ":   0.455189274657574Baths\n",
       ":   0.645340796822376Age\n",
       ":   -0.208608933147585Occupancy\n",
       ":   -0.206715518816963Pool\n",
       ":   0.202268683895296Fireplace\n",
       ":   0.310625728163814Waterfront\n",
       ":   0.30993997011312DOM\n",
       ":   0.0789293381675005\n",
       "\n"
      ],
      "text/plain": [
       "      Price        SQFT    Bedrooms       Baths         Age   Occupancy \n",
       " 1.00000000  0.76068917  0.45518927  0.64534080 -0.20860893 -0.20671552 \n",
       "       Pool   Fireplace  Waterfront         DOM \n",
       " 0.20226868  0.31062573  0.30993997  0.07892934 "
      ]
     },
     "metadata": {},
     "output_type": "display_data"
    }
   ],
   "source": [
    "cor(br)[,'Price']"
   ]
  },
  {
   "cell_type": "markdown",
   "metadata": {},
   "source": [
    "It looks like the variable `SQFT` has the largest absolute correlation coefficient, so we will use `SQFT` as our feature or input variable. We can build a simple linear model using the inbuilt `lm()` function in R. To build a model of `Price` as a function of `SQFT` we can use the formula argument `Price ~ SQFT`."
   ]
  },
  {
   "cell_type": "code",
   "execution_count": 17,
   "metadata": {},
   "outputs": [
    {
     "data": {
      "text/plain": [
       "\n",
       "Call:\n",
       "lm(formula = Price ~ SQFT, data = br)\n",
       "\n",
       "Residuals:\n",
       "    Min      1Q  Median      3Q     Max \n",
       "-366641  -31399   -1535   25601  932272 \n",
       "\n",
       "Coefficients:\n",
       "              Estimate Std. Error t value Pr(>|t|)    \n",
       "(Intercept) -60861.462   6110.187  -9.961   <2e-16 ***\n",
       "SQFT            92.747      2.411  38.476   <2e-16 ***\n",
       "---\n",
       "Signif. codes:  0 ‘***’ 0.001 ‘**’ 0.01 ‘*’ 0.05 ‘.’ 0.1 ‘ ’ 1\n",
       "\n",
       "Residual standard error: 79820 on 1078 degrees of freedom\n",
       "Multiple R-squared:  0.5786,\tAdjusted R-squared:  0.5783 \n",
       "F-statistic:  1480 on 1 and 1078 DF,  p-value: < 2.2e-16\n"
      ]
     },
     "metadata": {},
     "output_type": "display_data"
    }
   ],
   "source": [
    "model <- lm(Price ~ SQFT, br)\n",
    "\n",
    "summary(model)"
   ]
  },
  {
   "cell_type": "markdown",
   "metadata": {},
   "source": [
    "### 5.5.3 Evaluating the Model\n",
    "\n",
    "How can we quantify the ability of our model to reflect the data?\n",
    "\n",
    "#### Goodness of fit\n",
    "- Residual Standard Error: measures the total error (distance between the regression line and actual dependant variable value for each training data point, summed over all training data points).\n",
    "- $R^2$: The R-squared value is a measure of the amount of variance that the model explains. A value of 1 means that the model totally explains all variance. However in most cases this would be considered overfitting.\n",
    "\n",
    "#### Effect of variables\n",
    "- coefficient estimate: the magnitude of the coefficient/param value $\\beta$. The larger this value the more it contributes to shifting the value of the dependant variable. A large coefficient value means the variable is practically significant. However since variables are at different scale you should standardise your variables first so their scales are the same. Some variables can't be compared in this way e.g. numeric vs categorical.\n",
    "- coefficient p-value: this is the statistical significance of the parameter value being non-zero. This does not mean that the variable should neccesarily be included in the model. You must also check the coefficient value. Often variables should be left in the regression even if their p-value is high so that you can indicate that you have controlled for this variable."
   ]
  },
  {
   "cell_type": "markdown",
   "metadata": {},
   "source": [
    "### 5.5.4 Multivariate Linear Model\n",
    "\n",
    "Our univariate model has an $R^2$ of 0.58 which is good but not great. We can try to improve the model by including all feature variables in the dataframe and increasing the information available. To use all the columns as predictors of `Price` in the `lm()` function, we use the formula `Price ~ .`."
   ]
  },
  {
   "cell_type": "markdown",
   "metadata": {},
   "source": [
    "### 5.5.4 Multivariate Linear Model\n",
    "\n",
    "Our univariate model has an $R^2$ of 0.58 which is good but not great. We can try to improve the model by including all feature variables in the dataframe and increasing the information available. To use all the columns as predictors of `Price` in the `lm()` function, we use the formula `Price ~ .`."
   ]
  },
  {
   "cell_type": "code",
   "execution_count": 18,
   "metadata": {},
   "outputs": [
    {
     "data": {
      "text/plain": [
       "\n",
       "Call:\n",
       "lm(formula = Price ~ ., data = br)\n",
       "\n",
       "Residuals:\n",
       "    Min      1Q  Median      3Q     Max \n",
       "-312713  -32475   -3565   28717  882827 \n",
       "\n",
       "Coefficients:\n",
       "              Estimate Std. Error t value Pr(>|t|)    \n",
       "(Intercept) -45422.638  15978.345  -2.843  0.00456 ** \n",
       "SQFT            85.772      3.884  22.082  < 2e-16 ***\n",
       "Bedrooms    -26022.178   4539.147  -5.733 1.28e-08 ***\n",
       "Baths        39929.412   5702.413   7.002 4.44e-12 ***\n",
       "Age           -432.338    143.270  -3.018  0.00261 ** \n",
       "Occupancy     7563.501   4214.943   1.794  0.07302 .  \n",
       "Pool         -1896.596   8740.356  -0.217  0.82826    \n",
       "Fireplace    -1923.867   5244.975  -0.367  0.71384    \n",
       "Waterfront   58101.965   9215.011   6.305 4.20e-10 ***\n",
       "DOM            -21.542     24.461  -0.881  0.37870    \n",
       "---\n",
       "Signif. codes:  0 ‘***’ 0.001 ‘**’ 0.01 ‘*’ 0.05 ‘.’ 0.1 ‘ ’ 1\n",
       "\n",
       "Residual standard error: 74720 on 1070 degrees of freedom\n",
       "Multiple R-squared:  0.6335,\tAdjusted R-squared:  0.6304 \n",
       "F-statistic: 205.5 on 9 and 1070 DF,  p-value: < 2.2e-16\n"
      ]
     },
     "metadata": {},
     "output_type": "display_data"
    }
   ],
   "source": [
    "model <- lm(Price ~ ., br)\n",
    "\n",
    "summary(model)"
   ]
  },
  {
   "cell_type": "markdown",
   "metadata": {},
   "source": [
    "The new $R^2$ is 0.63, a considerable improvement on the univariate model.\n",
    "\n",
    "### 5.5.5 Interpretation of Model Coefficients\n",
    "\n",
    "The model coefficients correspond to the change in the target variable induced by a unit change of the corresponding feature variable, all else held constant. However, the coefficients cannot be used to compare the importance of variables since each *unit* is on a different scale. A good way of seeing this is that a *unit* change of one square foot is far less significant than a *unit* change in, for example, number of bedrooms. We can use scaling to change the units of our feature variables such that their distributions are centred at zero and have a standard deviation of one. This ensures that a *unit* change for each feature has approximately equal significance."
   ]
  },
  {
   "cell_type": "code",
   "execution_count": 19,
   "metadata": {},
   "outputs": [
    {
     "data": {
      "text/plain": [
       "\n",
       "Call:\n",
       "lm(formula = Price ~ ., data = br_scaled)\n",
       "\n",
       "Residuals:\n",
       "    Min      1Q  Median      3Q     Max \n",
       "-2.5442 -0.2642 -0.0290  0.2336  7.1826 \n",
       "\n",
       "Coefficients:\n",
       "              Estimate Std. Error t value Pr(>|t|)    \n",
       "(Intercept) -3.156e-16  1.850e-02   0.000  1.00000    \n",
       "SQFT         7.035e-01  3.186e-02  22.082  < 2e-16 ***\n",
       "Bedrooms    -1.502e-01  2.620e-02  -5.733 1.28e-08 ***\n",
       "Baths        1.988e-01  2.840e-02   7.002 4.44e-12 ***\n",
       "Age         -6.048e-02  2.004e-02  -3.018  0.00261 ** \n",
       "Occupancy    3.659e-02  2.039e-02   1.794  0.07302 .  \n",
       "Pool        -4.179e-03  1.926e-02  -0.217  0.82826    \n",
       "Fireplace   -7.767e-03  2.118e-02  -0.367  0.71384    \n",
       "Waterfront   1.224e-01  1.942e-02   6.305 4.20e-10 ***\n",
       "DOM         -1.663e-02  1.889e-02  -0.881  0.37870    \n",
       "---\n",
       "Signif. codes:  0 ‘***’ 0.001 ‘**’ 0.01 ‘*’ 0.05 ‘.’ 0.1 ‘ ’ 1\n",
       "\n",
       "Residual standard error: 0.6079 on 1070 degrees of freedom\n",
       "Multiple R-squared:  0.6335,\tAdjusted R-squared:  0.6304 \n",
       "F-statistic: 205.5 on 9 and 1070 DF,  p-value: < 2.2e-16\n"
      ]
     },
     "metadata": {},
     "output_type": "display_data"
    }
   ],
   "source": [
    "# Scale the data\n",
    "br_scaled <- as.data.frame(scale(br))\n",
    "# Build a linear model\n",
    "model <- lm(Price ~ ., br_scaled)\n",
    "# Inspect the results\n",
    "summary(model)"
   ]
  },
  {
   "cell_type": "markdown",
   "metadata": {},
   "source": [
    "The scaling makes it possible to say that `SQFT` has the greatest effect on Price, since in scaled units it has the largest associated coefficient $\\beta$. `Bedrooms`, `Baths` and `Waterfront` are close behind."
   ]
  },
  {
   "cell_type": "markdown",
   "metadata": {},
   "source": [
    "### 5.5.6 Generating Predictions\n",
    "\n",
    "Let's select a random row from our feature set as an example of a new data point that we want to predict the price of."
   ]
  },
  {
   "cell_type": "code",
   "execution_count": 20,
   "metadata": {},
   "outputs": [
    {
     "data": {
      "text/html": [
       "<table>\n",
       "<caption>A data.frame: 1 × 9</caption>\n",
       "<thead>\n",
       "\t<tr><th></th><th scope=col>SQFT</th><th scope=col>Bedrooms</th><th scope=col>Baths</th><th scope=col>Age</th><th scope=col>Occupancy</th><th scope=col>Pool</th><th scope=col>Fireplace</th><th scope=col>Waterfront</th><th scope=col>DOM</th></tr>\n",
       "\t<tr><th></th><th scope=col>&lt;int&gt;</th><th scope=col>&lt;int&gt;</th><th scope=col>&lt;int&gt;</th><th scope=col>&lt;int&gt;</th><th scope=col>&lt;int&gt;</th><th scope=col>&lt;int&gt;</th><th scope=col>&lt;int&gt;</th><th scope=col>&lt;int&gt;</th><th scope=col>&lt;int&gt;</th></tr>\n",
       "</thead>\n",
       "<tbody>\n",
       "\t<tr><th scope=row>122</th><td>1843</td><td>3</td><td>2</td><td>8</td><td>2</td><td>0</td><td>1</td><td>0</td><td>5</td></tr>\n",
       "</tbody>\n",
       "</table>\n"
      ],
      "text/latex": [
       "A data.frame: 1 × 9\n",
       "\\begin{tabular}{r|lllllllll}\n",
       "  & SQFT & Bedrooms & Baths & Age & Occupancy & Pool & Fireplace & Waterfront & DOM\\\\\n",
       "  & <int> & <int> & <int> & <int> & <int> & <int> & <int> & <int> & <int>\\\\\n",
       "\\hline\n",
       "\t122 & 1843 & 3 & 2 & 8 & 2 & 0 & 1 & 0 & 5\\\\\n",
       "\\end{tabular}\n"
      ],
      "text/markdown": [
       "\n",
       "A data.frame: 1 × 9\n",
       "\n",
       "| <!--/--> | SQFT &lt;int&gt; | Bedrooms &lt;int&gt; | Baths &lt;int&gt; | Age &lt;int&gt; | Occupancy &lt;int&gt; | Pool &lt;int&gt; | Fireplace &lt;int&gt; | Waterfront &lt;int&gt; | DOM &lt;int&gt; |\n",
       "|---|---|---|---|---|---|---|---|---|---|\n",
       "| 122 | 1843 | 3 | 2 | 8 | 2 | 0 | 1 | 0 | 5 |\n",
       "\n"
      ],
      "text/plain": [
       "    SQFT Bedrooms Baths Age Occupancy Pool Fireplace Waterfront DOM\n",
       "122 1843 3        2     8   2         0    1         0          5  "
      ]
     },
     "metadata": {},
     "output_type": "display_data"
    }
   ],
   "source": [
    "# Select a random row\n",
    "new_home <- br[123,]\n",
    "# Remove the target column\n",
    "new_home <- subset(new_home, select=-c(Price))\n",
    "# Inspect the output\n",
    "new_home"
   ]
  },
  {
   "cell_type": "markdown",
   "metadata": {},
   "source": [
    "We can generate a prediction from our model for this set of features using the `predict()` function."
   ]
  },
  {
   "cell_type": "code",
   "execution_count": 21,
   "metadata": {},
   "outputs": [
    {
     "data": {
      "text/html": [
       "<strong>122:</strong> 1295.9573572143"
      ],
      "text/latex": [
       "\\textbf{122:} 1295.9573572143"
      ],
      "text/markdown": [
       "**122:** 1295.9573572143"
      ],
      "text/plain": [
       "     122 \n",
       "1295.957 "
      ]
     },
     "metadata": {},
     "output_type": "display_data"
    }
   ],
   "source": [
    "predict(model, new_home)"
   ]
  },
  {
   "cell_type": "markdown",
   "metadata": {},
   "source": [
    "## 5.6 Normality Assumption\n",
    "\n",
    "A robust assumption in statistics, physics and engineering is that random noise is normally distributed. Applied to linear regression, this assumption states that the residuals and errors of a regression model are normally distributed about the regression line. We can visualise the normality assumption by plotting a histogram of the residuals."
   ]
  },
  {
   "cell_type": "code",
   "execution_count": 22,
   "metadata": {},
   "outputs": [
    {
     "data": {
      "image/png": "[encoded data removed]",
      "text/plain": [
       "Plot with title “Histogram of model$residuals”"
      ]
     },
     "metadata": {},
     "output_type": "display_data"
    }
   ],
   "source": [
    "hist(model$residuals, breaks=80)"
   ]
  },
  {
   "cell_type": "markdown",
   "metadata": {},
   "source": [
    "We can see that the distribution closely resembles a normal curve. The residuals are centred at 0 and are approximately symmetric about 0.\n",
    "\n",
    "Knowing the probability distribution of the errors allows us to compute the probability of observing a certain outcome $y$, or the confidence of a prediction $\\hat{y}$. We can imagine that at each point of our regression line, there exists a normal distribution centred on the line itself, with standard deviation equal to the standard deviation of the residuals. Observations are assumed to be drawn from this normal distribution. A good rule of thumb is that 95% of errors will fall within two standard deviations of the regression line.\n",
    "\n",
    "We can thus calculate the 95% confidence interval for the price of a home with the features given by `new_home`, again using the `predict()` function and the argument `interval='confidence'`."
   ]
  },
  {
   "cell_type": "code",
   "execution_count": 23,
   "metadata": {},
   "outputs": [
    {
     "data": {
      "text/html": [
       "<table>\n",
       "<caption>A matrix: 1 × 3 of type dbl</caption>\n",
       "<thead>\n",
       "\t<tr><th></th><th scope=col>fit</th><th scope=col>lwr</th><th scope=col>upr</th></tr>\n",
       "</thead>\n",
       "<tbody>\n",
       "\t<tr><th scope=row>122</th><td>1295.957</td><td>1180.934</td><td>1410.98</td></tr>\n",
       "</tbody>\n",
       "</table>\n"
      ],
      "text/latex": [
       "A matrix: 1 × 3 of type dbl\n",
       "\\begin{tabular}{r|lll}\n",
       "  & fit & lwr & upr\\\\\n",
       "\\hline\n",
       "\t122 & 1295.957 & 1180.934 & 1410.98\\\\\n",
       "\\end{tabular}\n"
      ],
      "text/markdown": [
       "\n",
       "A matrix: 1 × 3 of type dbl\n",
       "\n",
       "| <!--/--> | fit | lwr | upr |\n",
       "|---|---|---|---|\n",
       "| 122 | 1295.957 | 1180.934 | 1410.98 |\n",
       "\n"
      ],
      "text/plain": [
       "    fit      lwr      upr    \n",
       "122 1295.957 1180.934 1410.98"
      ]
     },
     "metadata": {},
     "output_type": "display_data"
    }
   ],
   "source": [
    "predict(model, new_home, level=0.95, interval='confidence')"
   ]
  },
  {
   "cell_type": "markdown",
   "metadata": {},
   "source": [
    "This is not the same as computing the confidence interval of a *prediction* generated by the linear model. We can compute this using the argument `interval='prediction'`."
   ]
  },
  {
   "cell_type": "code",
   "execution_count": 24,
   "metadata": {},
   "outputs": [
    {
     "data": {
      "text/html": [
       "<table>\n",
       "<caption>A matrix: 1 × 3 of type dbl</caption>\n",
       "<thead>\n",
       "\t<tr><th></th><th scope=col>fit</th><th scope=col>lwr</th><th scope=col>upr</th></tr>\n",
       "</thead>\n",
       "<tbody>\n",
       "\t<tr><th scope=row>122</th><td>1295.957</td><td>1180.928</td><td>1410.987</td></tr>\n",
       "</tbody>\n",
       "</table>\n"
      ],
      "text/latex": [
       "A matrix: 1 × 3 of type dbl\n",
       "\\begin{tabular}{r|lll}\n",
       "  & fit & lwr & upr\\\\\n",
       "\\hline\n",
       "\t122 & 1295.957 & 1180.928 & 1410.987\\\\\n",
       "\\end{tabular}\n"
      ],
      "text/markdown": [
       "\n",
       "A matrix: 1 × 3 of type dbl\n",
       "\n",
       "| <!--/--> | fit | lwr | upr |\n",
       "|---|---|---|---|\n",
       "| 122 | 1295.957 | 1180.928 | 1410.987 |\n",
       "\n"
      ],
      "text/plain": [
       "    fit      lwr      upr     \n",
       "122 1295.957 1180.928 1410.987"
      ]
     },
     "metadata": {},
     "output_type": "display_data"
    }
   ],
   "source": [
    "predict(model, new_home, level=0.95, interval='prediction')"
   ]
  },
  {
   "cell_type": "markdown",
   "metadata": {},
   "source": [
    "## 5.7 Multicolinearity\n",
    "\n",
    "The OLS method for linear regression presented above gives a unique set of coefficients $\\boldsymbol \\beta$ as long as the columns of our dataset $X$ are linearly independent. This means that if two or more of our feature variables are highly linearly correlated, then the model parameters can be highly variable, and the coefficients of the linear model can no longer be interpreted.\n",
    "\n",
    "To see this, imagine two columns $x_1$ and $x_2$ that are linearly dependent and thus perfectly correlated. We can write this as:\n",
    "\n",
    "$$ cx_1 = x_2$$\n",
    "\n",
    "for some proportionality constant c. Thus we can rewrite the linear model as:\n",
    "\n",
    "$$ y = \\beta_0 + \\beta_1 x_1 + \\beta_2 cx_1 = \\beta_0 + (\\beta_1 + c\\beta_2) x_1$$\n",
    "\n",
    "This is a simple linear regression problem with parameter $\\beta_1+c\\beta_2$, the optimal value of which can be given by a range of $\\beta_1$ and $\\beta_2$ parameters. Each run of the OLS algorithm will produce different results.\n",
    "\n",
    "## 5.8 Categorical Variables\n",
    "\n",
    "Notice that some of our variables, such as `Pool` or `Fireplace` are categorical. Fortunately these variables are binary and each state can be represented by a 0 or 1. The correct way to deal with categorical variables that can take on $m$ distinct values is to add $m-1$ binary variables to the regression model. These variables are called dummy variables. Consider the variable `Age` below, with three distinct possible values."
   ]
  },
  {
   "cell_type": "code",
   "execution_count": 25,
   "metadata": {},
   "outputs": [
    {
     "data": {
      "text/html": [
       "<table>\n",
       "<caption>A data.frame: 3 × 1</caption>\n",
       "<thead>\n",
       "\t<tr><th scope=col>Age</th></tr>\n",
       "\t<tr><th scope=col>&lt;fct&gt;</th></tr>\n",
       "</thead>\n",
       "<tbody>\n",
       "\t<tr><td>Young </td></tr>\n",
       "\t<tr><td>Old   </td></tr>\n",
       "\t<tr><td>Middle</td></tr>\n",
       "</tbody>\n",
       "</table>\n"
      ],
      "text/latex": [
       "A data.frame: 3 × 1\n",
       "\\begin{tabular}{r|l}\n",
       " Age\\\\\n",
       " <fct>\\\\\n",
       "\\hline\n",
       "\t Young \\\\\n",
       "\t Old   \\\\\n",
       "\t Middle\\\\\n",
       "\\end{tabular}\n"
      ],
      "text/markdown": [
       "\n",
       "A data.frame: 3 × 1\n",
       "\n",
       "| Age &lt;fct&gt; |\n",
       "|---|\n",
       "| Young  |\n",
       "| Old    |\n",
       "| Middle |\n",
       "\n"
      ],
      "text/plain": [
       "  Age   \n",
       "1 Young \n",
       "2 Old   \n",
       "3 Middle"
      ]
     },
     "metadata": {},
     "output_type": "display_data"
    }
   ],
   "source": [
    "Age <- c('Young', 'Old', 'Middle')\n",
    "df <- as.data.frame(Age)\n",
    "\n",
    "head(df)"
   ]
  },
  {
   "cell_type": "markdown",
   "metadata": {},
   "source": [
    "The input file would have two columns added for these variables, representing the first two values of `Age`. If a person was `Young` then the column `Young` would have a 1 and all other columns would be 0.  We can create dummy variables using the following:"
   ]
  },
  {
   "cell_type": "code",
   "execution_count": 26,
   "metadata": {},
   "outputs": [
    {
     "data": {
      "text/html": [
       "<table>\n",
       "<caption>A matrix: 3 × 3 of type dbl</caption>\n",
       "<thead>\n",
       "\t<tr><th scope=col>(Intercept)</th><th scope=col>AgeOld</th><th scope=col>AgeYoung</th></tr>\n",
       "</thead>\n",
       "<tbody>\n",
       "\t<tr><td>1</td><td>0</td><td>1</td></tr>\n",
       "\t<tr><td>1</td><td>1</td><td>0</td></tr>\n",
       "\t<tr><td>1</td><td>0</td><td>0</td></tr>\n",
       "</tbody>\n",
       "</table>\n"
      ],
      "text/latex": [
       "A matrix: 3 × 3 of type dbl\n",
       "\\begin{tabular}{r|lll}\n",
       " (Intercept) & AgeOld & AgeYoung\\\\\n",
       "\\hline\n",
       "\t 1 & 0 & 1\\\\\n",
       "\t 1 & 1 & 0\\\\\n",
       "\t 1 & 0 & 0\\\\\n",
       "\\end{tabular}\n"
      ],
      "text/markdown": [
       "\n",
       "A matrix: 3 × 3 of type dbl\n",
       "\n",
       "| (Intercept) | AgeOld | AgeYoung |\n",
       "|---|---|---|\n",
       "| 1 | 0 | 1 |\n",
       "| 1 | 1 | 0 |\n",
       "| 1 | 0 | 0 |\n",
       "\n"
      ],
      "text/plain": [
       "  (Intercept) AgeOld AgeYoung\n",
       "1 1           0      1       \n",
       "2 1           1      0       \n",
       "3 1           0      0       "
      ]
     },
     "metadata": {},
     "output_type": "display_data"
    }
   ],
   "source": [
    "dummies = model.matrix(~Age)\n",
    "dummies"
   ]
  },
  {
   "cell_type": "markdown",
   "metadata": {},
   "source": [
    "In this case, a person whose age is `Middle`, the one value not explicitly stated in the model, would be identified by setting all `Age` columns to 0. In this representation, `Middle` is considered the reference case, and the regression coefficients of the other `Age` variables would represent the difference in the target variable between `Age = Middle` and the other `Age` values. We do not include a column for `Middle` since the information in `Middle` is not independent of the other columns, leading to issues with multicolinearity.\n",
    "\n",
    "The `Intercept` column of ones preserves the intercept term $\\beta_0$ in our model. For more, see Appendix 2.\n",
    "\n",
    "## 5.9 Polynomial Regression and Overfitting\n",
    "\n",
    "As the name suggests, these algorithms are very good at modeling linear functions, that is functions where each feature is multiplied by a constant weight $\\beta$. One downside of these models is that any nonlinearities in the relationship between features and target might be missed. Nonlinearities are terms in our model function where feature variables are multiplied together (e.g. $\\beta_{i} x_1 x_2$, also called an *interaction term*), or where a feature is raised to a power (e.g. $\\beta_{i} x_1^2$). A polynomial of order 3 is a polynomial where the highest power is 3, e.g:\n",
    "\n",
    "$$y = \\beta_0 + \\beta_1 x_1 + \\beta_{2} x_1^2 + \\beta_{3} x_1^3$$\n",
    "\n",
    "We can easily account for nonlinearities in our model by creating new features which multiply two feature columns together (e.g. $x_3 = x_1x_2$) or raise a feature column to a power (e.g. $x_3 = x_1^2$). By introducing new columns in this way, this allows us to model any multivariate polynomial function using the Ordinary Least Squares method.\n",
    "\n",
    "An interesting feature of polynomials is that they can model any arbitrary function, and a polynomial of order n can pass through any n+1 points exactly. Which means a higher order polynomial will be the best model, right? No! This leads to a situation where, if our model is too complex, the regressor can *learn the noise* inherent in our data and fail to identify the *underlying* functional relationship. The model will fit to the training data almost perfectly, but will not *generalise* well to new data. This is referred to as *overfitting*.\n",
    "\n",
    "Typically, in order to assess the degree of overfitting in our model and avoid learning any bias in our training data, a separate set is used for testing the model."
   ]
  },
  {
   "cell_type": "markdown",
   "metadata": {},
   "source": [
    "## 5.10 Training and Test Sets\n",
    "\n",
    "To select the \"best\" model for a machine learning task we need to evaluate the performance of each model. The first step in this process is seperating the data into training and test sets. Usually we take 70% of our collected data as the training set and the remaining 30% as our test set.\n",
    "\n",
    "**Training Set**: This set is used to train our models on. In other words we estimate the parameters for the models using this data.\n",
    "\n",
    "**Test Set**: This set is used ONLY to estimate the future predictive performance of the chosen model. The test set should never be used for training in any way whatsoever. It needs to remain completely independent and unseen by the models.\n",
    "\n",
    "The data in the test set must be distributed the same as the training set and also the same as future data. You might get unlucky in splitting your data and select lots of outliers. This can be addressed by collecting more data.\n",
    "\n",
    "<img src=\"img/train_test.png\" width=500>\n",
    "\n",
    "### 5.10.1 Train-Test-Split in R\n",
    "\n",
    "We can perform a train-test-split in R using the sample function to generate a number of random row indices to select from our dataset."
   ]
  },
  {
   "cell_type": "code",
   "execution_count": 27,
   "metadata": {},
   "outputs": [],
   "source": [
    "## set the seed to make your partition reproducible\n",
    "set.seed(123)\n",
    "train_ind <- sample(seq_len(nrow(df)), size = floor(0.75 * nrow(df)))\n",
    "\n",
    "train <- df[train_ind, ]\n",
    "test <- df[-train_ind, ]"
   ]
  },
  {
   "cell_type": "markdown",
   "metadata": {},
   "source": [
    "## 5.11 Evaluation Using the Training Set\n",
    "\n",
    "Since the Test set is off limits for the purposes of training and evaluation we must use the remaining data, which is the training set.\n",
    "\n",
    "### 5.11.1 Holdout\n",
    "\n",
    "The Holdout method simply reserves a portion of the training data as a Validation Set. The models are trained on the training set and the model performance is compared on the Validation Set.\n",
    "\n",
    "<img src=\"img/holdout.png\" width=500>\n",
    "\n",
    "### 5.11.2 Cross Validation\n",
    "\n",
    "The Holdout method is limited by the fact that the validation set is quite small. This means the validation set has a low chance of reflecting the full distribution of future data.\n",
    "\n",
    "To resolve this we can use all the training data as validation data. We successively partition the training set into different training and validation pairs. Performance is evaluated on all pairs and a sumamry statistic of accuracy (mean or median) is calculated.\n",
    "\n",
    "Cross Validation is an excellent estimator of \"out of sample\" performance. There are many types of Cross Validation such as \"leave-p-out\", \"leave-one-out\" and \"k-fold\". We will focus on k-fold cross validation. K refers to the number of splits of data. In the figure below there are 5 folds.\n",
    "\n",
    "<img src=\"img/cross_val.png\" width=800>\n",
    "\n",
    "\n",
    "## 5.12 Tuning Hyper Parameters\n",
    "\n",
    "Some models/algorithms will have additional parameters called hyper parameters. Hyper parameters are set before the parameter estimation process. Some common examples are regularisation parameters (control the magnitude of parameter values), learning rate or step size (gradient descent) or the number of neurons in a layer of a neural network.\n",
    "\n",
    "The optimal value of these parameters is hard to guess so you should always use cross validation to find the best parameter values. \n",
    "\n",
    "### 5.12.1 Process\n",
    "\n",
    "1. For each model, tune hyper parameters using cross validation on training set\n",
    "2. Perform cross validation on training set using each model to see which has the best predictive performance on average\n",
    "3. Estimate selected model performance using test set\n",
    "\n",
    "For step 1 the process is independent for each model. For step 2 we must use the same process i.e. validation or cross validation splits so that we conduct a fair test.\n",
    "\n",
    "Cross Validation mirrors test performance (out of sample generalisation) so we expect that the model that performs best in CV will perform best in the test set. From the test set we get an unbiased estimate of the performance on future data.\n",
    "\n",
    "<img src=\"img/model_selection.png\" width=900>\n",
    "\n",
    "\n",
    "### 5.12.2 Why is Validation Required?\n",
    "\n",
    "Why is a Validation set required?\n",
    "\n",
    "1. Selecting a model based on training set performance leads to a model that does not generalise to unseen data. In other words it leads to overfitting or a biased model.\n",
    "2. Using the test set as a validation set means that we no longer have an independent set to evaluate out of sample performance. The test set becomes tainted."
   ]
  },
  {
   "cell_type": "markdown",
   "metadata": {},
   "source": [
    "# Appendix\n",
    "\n",
    "**The following sections are not necessary, but give a formal solution to the OLS minimisation problem above. Those without a mathematical background can safely skip it.**\n",
    "\n",
    "## A.1: Linear Algebra Review\n",
    "\n",
    "Linear algebra is the area of maths that deals with vector spaces and linear mappings between those spaces. Vectors are just an ordered list of numbers or variables, so we can represent any data as a vector. Take for instance the table of housing data below:\n",
    "\n",
    "<img width=320 src=\"img/datatable.png\">\n",
    "\n",
    "Each row can be represented as a vector in the $ a,b,c $ space spanned by the basis vectors corresponding to the variables Area, Bathrooms and Price:\n",
    "\n",
    "$$ \\mathbf a  = [1, 0, 0] $$\n",
    "$$ \\mathbf b  = [0, 1, 0] $$\n",
    "$$ \\mathbf c  = [0, 0, 1] $$\n",
    "\n",
    "The 1st row can then be represented as a 3-dimensional vector by taking a weighted sum of the basis vectors:\n",
    "\n",
    "$$ \\mathbf x_1  = 350 \\mathbf a + 3 \\mathbf b + 1060000 \\mathbf c = [350, 3, 1060000] $$\n",
    "\n",
    "Similarly, each column of data can be represented as a vector in our _sample_ space:\n",
    "\n",
    "$$ \\mathbf A = \\begin{bmatrix}350\\\\200\\\\540\\\\275\\end{bmatrix} $$ \n",
    "\n",
    "There is no reason why we could not represent our table columns as row vectors and our table rows as column vectors, we only need to be consistent in our choices.\n",
    "\n",
    "Matrices are like vectors with an additional dimension, and can be thought of as a collection of vectors. Conversely, we can also think of vectors as lower-dimensional matrices. We can represent the data in the table above as a $4\\times3$ matrix:\n",
    "\n",
    "$$ \\mathbf X = \\begin{bmatrix}350 & 3 & 1060000\\\\200 & 2 & 620000 \\\\540 & 3 & 1490000\\\\275 & 3 & 900000\\end{bmatrix} $$\n",
    "\n",
    "We say this matrix is rectangular since 4 ≠ 3. Matrices with an equal number of rows and columns ($m \\times m$ matrices), are referred to as _square_ matrices. These matrices are especially useful in that they can be invertible. This will be useful when dealing with matrix equations, but for now it's enough to know that square matrices are somewhat nicer to deal with than non-square ones.\n",
    "\n",
    "Matrices are also commonly used to represent image data. For example, the entries in the below matrix represent the greyscale value of each pixel in the image.\n",
    "\n",
    "<img src=\"img/digit.gif\" width=300>\n",
    "\n",
    "## A.2: Linear Regression in Matrix Form\n",
    "\n",
    "The equation for a multivariate linear model of a target variable $y$ in terms of features $x_p$ is:\n",
    "\n",
    "$$ y = \\beta_0 + \\beta_1 x_1 + \\dots + \\beta_p x_p$$\n",
    "\n",
    "If we write the $\\beta_i$ coefficients and features $x_i$ in vector form:\n",
    "\n",
    "$$\n",
    "\\mathbf{\\beta} = \\begin{bmatrix}\\beta_0\\\\\\beta_1\\\\\\beta_2\\\\...\\end{bmatrix} \\qquad \\mathbf x = \\begin{bmatrix}1&x_1&x_2&...\\end{bmatrix}\n",
    "$$\n",
    "\n",
    "We can write the equation as:\n",
    "\n",
    "$$ \\mathbf x \\beta = y $$\n",
    "\n",
    "Adding an initial 1 to the vector $\\mathbf x$ to multiply the $\\beta_0$ intercept.\n",
    "\n",
    "If we expand the $\\mathbf x$ vector into a matrix, with each row representing an observation in our dataset, we can write the set of linear equations\n",
    "\n",
    "$$ \\beta_0 + \\beta_1 x_{11} + \\beta_2 x_{12} ... \\beta_p x_{1p}= y_1 $$\n",
    "$$ \\beta_0 + \\beta_1 x_{21} + \\beta_2 x_{22} ... \\beta_p x_{2p}= y_2 $$\n",
    "$$ \\beta_0 + \\beta_1 x_{31} + \\beta_2 x_{32} ... \\beta_p x_{3p}= y_3 $$\n",
    "$$ ... $$\n",
    "$$ \\beta_0 + \\beta_1 x_{n1} + \\beta_2 x_{n2} ... \\beta_p x_{np}= y_n $$\n",
    "\n",
    "In compact matrix form:\n",
    "\n",
    "$$\\begin{bmatrix}1&x_{11}&x_{12}&...&x_{1p}\\\\1&x_{21}&x_{22}&...&x_{2p}\\\\ & &...\\\\1&x_{n1}&x_{n2}&...&x_{np}\\end{bmatrix}\n",
    "\\begin{bmatrix}\\beta_0\\\\\\beta_1\\\\\\beta_2\\\\...\\\\\\beta_p\\end{bmatrix} = \\begin{bmatrix}y_1\\\\y_2\\\\...\\\\y_n\\end{bmatrix}\n",
    "$$\n",
    "\n",
    "## A.3: Closed-form Analytical Solution with Linear Algebra\n",
    "\n",
    "We can also solve the linear regression problem directly using linear algebra. The goal is to minimise the squared error between the ground truth and the predictions from the linear model, defined by the coefficients in $\\beta$. For a data matrix $X$\n",
    "\n",
    "$$\n",
    "X = \\begin{bmatrix}1&x_{11}&x_{12}&...&x_{1p}\\\\1&x_{21}&x_{22}&...&x_{2p}\\\\ & &...\\\\1&x_{n1}&x_{n2}&...&x_{np}\\end{bmatrix}\n",
    "$$\n",
    "\n",
    "we can express the squared error in vector form:\n",
    "\n",
    "$$ \\sum_i\\left(\\sum_j X_{ij} \\times \\beta_j - y_i\\right)^2 = || X\\beta - \\mathbf y ||^2$$\n",
    "\n",
    "Where $||x||$ denotes the Frobenius norm of $x$. This minimisation problem has a unique solution as long as the columns of $X$ are linearly *independent*."
   ]
  },
  {
   "cell_type": "markdown",
   "metadata": {},
   "source": [
    "To find the minimum of this function we take the derivitive of it w.r.t. $\\boldsymbol \\beta$. Notice first of all that the summation operator $\\Sigma_i$ commutes with the differential operator $\\frac{\\partial}{\\partial \\boldsymbol \\beta}$ so we have:\n",
    "\n",
    "$$\\frac{\\partial}{\\partial \\boldsymbol \\beta} || X\\beta - \\mathbf y ||^2 = \\sum_i \\frac{\\partial}{\\partial \\boldsymbol \\beta} \\left(\\sum_j X_{ij} \\times \\beta_j - y_i\\right)^2$$\n",
    "\n",
    "Using $\\frac{\\partial}{\\partial x} f(x)^2 = 2f(x)\\frac{\\partial f(x)}{\\partial x}$ we obtain:\n",
    "\n",
    "$$2 \\sum_i \\left(\\sum_j X_{ij} \\times \\beta_j - y_i\\right) \\frac{\\partial}{\\partial \\beta_k} \\left(\\sum_j X_{ij} \\times \\beta_j - y_i\\right)$$\n",
    "\n",
    "We can evaluate the differential and get:\n",
    "\n",
    "$$2 \\sum_i X_{ik} \\left( \\sum_j X_{ij} \\times \\beta_j - y_i\\right)$$\n",
    "\n",
    "Replace the sum over $j$ with a vector multiplication:\n",
    "\n",
    "$$2 \\sum_i X_{ik} \\left(X_{i} \\boldsymbol \\beta - y_i\\right)$$\n",
    "\n",
    "Replace the sum over $i$ with a vector multiplication:\n",
    "\n",
    "$$  2 (X^T_k X \\boldsymbol \\beta - X^T_k \\mathbf y)$$\n",
    "\n",
    "And finally write it as a vector of values over k:\n",
    "\n",
    "$$  2 (X^T X \\boldsymbol \\beta - X^T \\mathbf y)$$"
   ]
  },
  {
   "cell_type": "markdown",
   "metadata": {},
   "source": [
    "We set this to zero to find the values of $\\boldsymbol \\beta$ that yield a gradient of zero\n",
    "\n",
    "$$  X^T X \\beta = X^T \\mathbf y $$\n",
    "\n",
    "Inverting the square matrix $ X^T X$, we can solve explicitly for the model parameters $\\beta$:\n",
    "\n",
    "$$ \\beta = \\left( X^T X\\right)^{-1} X^T \\mathbf y$$\n",
    "\n",
    "We can now evaluate the $\\beta$ coefficients directly in R!"
   ]
  },
  {
   "cell_type": "code",
   "execution_count": 28,
   "metadata": {},
   "outputs": [
    {
     "data": {
      "text/html": [
       "<table>\n",
       "<caption>A matrix: 10 × 1 of type dbl</caption>\n",
       "<tbody>\n",
       "\t<tr><th scope=row></th><td>-45422.63757</td></tr>\n",
       "\t<tr><th scope=row>SQFT</th><td>    85.77200</td></tr>\n",
       "\t<tr><th scope=row>Bedrooms</th><td>-26022.17811</td></tr>\n",
       "\t<tr><th scope=row>Baths</th><td> 39929.41204</td></tr>\n",
       "\t<tr><th scope=row>Age</th><td>  -432.33832</td></tr>\n",
       "\t<tr><th scope=row>Occupancy</th><td>  7563.50149</td></tr>\n",
       "\t<tr><th scope=row>Pool</th><td> -1896.59638</td></tr>\n",
       "\t<tr><th scope=row>Fireplace</th><td> -1923.86741</td></tr>\n",
       "\t<tr><th scope=row>Waterfront</th><td> 58101.96540</td></tr>\n",
       "\t<tr><th scope=row>DOM</th><td>   -21.54198</td></tr>\n",
       "</tbody>\n",
       "</table>\n"
      ],
      "text/latex": [
       "A matrix: 10 × 1 of type dbl\n",
       "\\begin{tabular}{r|l}\n",
       "\t & -45422.63757\\\\\n",
       "\tSQFT &     85.77200\\\\\n",
       "\tBedrooms & -26022.17811\\\\\n",
       "\tBaths &  39929.41204\\\\\n",
       "\tAge &   -432.33832\\\\\n",
       "\tOccupancy &   7563.50149\\\\\n",
       "\tPool &  -1896.59638\\\\\n",
       "\tFireplace &  -1923.86741\\\\\n",
       "\tWaterfront &  58101.96540\\\\\n",
       "\tDOM &    -21.54198\\\\\n",
       "\\end{tabular}\n"
      ],
      "text/markdown": [
       "\n",
       "A matrix: 10 × 1 of type dbl\n",
       "\n",
       "| <!----> | -45422.63757 |\n",
       "| SQFT |     85.77200 |\n",
       "| Bedrooms | -26022.17811 |\n",
       "| Baths |  39929.41204 |\n",
       "| Age |   -432.33832 |\n",
       "| Occupancy |   7563.50149 |\n",
       "| Pool |  -1896.59638 |\n",
       "| Fireplace |  -1923.86741 |\n",
       "| Waterfront |  58101.96540 |\n",
       "| DOM |    -21.54198 |\n",
       "\n"
      ],
      "text/plain": [
       "           [,1]        \n",
       "           -45422.63757\n",
       "SQFT           85.77200\n",
       "Bedrooms   -26022.17811\n",
       "Baths       39929.41204\n",
       "Age          -432.33832\n",
       "Occupancy    7563.50149\n",
       "Pool        -1896.59638\n",
       "Fireplace   -1923.86741\n",
       "Waterfront  58101.96540\n",
       "DOM           -21.54198"
      ]
     },
     "metadata": {},
     "output_type": "display_data"
    }
   ],
   "source": [
    "# Create a vector of y values\n",
    "y <- as.matrix(br$Price)\n",
    "\n",
    "# Create a matrix with the feature variables\n",
    "X <- as.matrix(br[,2:10])\n",
    "\n",
    "# Add a column of ones to represent the intercept term\n",
    "X <- cbind(matrix(data = rep(1,nrow(X)), nrow = nrow(X), ncol = 1), X)\n",
    "\n",
    "# Evaluate the expression for the beta coefficients explicitly\n",
    "solve(t(X) %*% X) %*% t(X) %*% y"
   ]
  },
  {
   "cell_type": "markdown",
   "metadata": {},
   "source": [
    "The coefficients are identical to the ones produced by the `lm()` function."
   ]
  }
 ],
 "metadata": {
  "kernelspec": {
   "display_name": "R",
   "language": "R",
   "name": "ir"
  },
  "language_info": {
   "codemirror_mode": "r",
   "file_extension": ".r",
   "mimetype": "text/x-r-source",
   "name": "R",
   "pygments_lexer": "r",
   "version": "3.6.1"
  }
 },
 "nbformat": 4,
 "nbformat_minor": 2
}
