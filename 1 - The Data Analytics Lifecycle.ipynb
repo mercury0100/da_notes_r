{
 "cells": [
  {
   "cell_type": "markdown",
   "metadata": {},
   "source": [
    "# 1. The Data Analytics Lifecycle\n",
    "\n",
    "The analytics Lifecycle is a framework for best practices in analytics from data discovery to project completion. The lifecycle defines 6 phases for a project, each serving a distinct purpose, and each being necessary to the next. The phases are:\n",
    "\n",
    "    1. Discovery\n",
    "    2. Data Preparation\n",
    "    3. Model Planning\n",
    "    4. Model Building\n",
    "    5. Communicate Results\n",
    "    6. Operationalise\n",
    "\n",
    "A common misunderstanding is that the lifecycle is linear. Analytics projects will typically uncover new information or encounter blockers that require them to return to previous steps in thelifecycle. Another common misperception is that data scientists spend most of their time planning and building models. In fact, most of the time in the analytics lifecycle is spent in data preparation.\n",
    "\n",
    "## 1.1 Discovery\n",
    "\n",
    "The first phase in the lifecycle is the discovery phase, where a team learns about the relevant business domain and the business, including the history of analytics projects. This is essential to learn from any past projects that may have had a similar scope. In this phase the team must also assess what resources are available to drive the project, including people, technology and data. Based on this, the team should develop a business problem that can be addressed using data analytics and frame it as a testable hypothesis to guide the rest of the project. Any ethical or legal issues, with the data or with the scope of the project, should also be addressed in this phase.\n",
    "\n",
    "## 1.2 Data Preparation\n",
    "\n",
    "The second phase of the analytics lifecycle involves data preparation, including the exploration, preprocessing and conditioning of the data. For this it's useful to have a robust environment where the team can work on the data without interfering with any external databases. This is referred to as a _sandbox_ or a _workspace_. The team carries out a process called _ELTL_ , a combination of extract, load, and transform (ELT) and extract, transform and load (ETL) to get the data into the workspace. This is where the data is transformed into the appropriate format for subsequent exploration and analysis. The team must also familiarise itself with the data, through exploration of the dataset using statistics and visualisation. The team must also clean the data, and condition it for analysis. This is the most labour- and time- intensive step in the lifecycle.\n",
    "\n",
    "## 1.3 Model Planning\n",
    "\n",
    "In this phase, the team must select the methods and techniques that can be used to address the testable hypothesis based on the available data, and plan a suitable workflow. This is also where the team will conduct extensive visual and statistical analysis of the data to identify relationships between variables and select key features and the most suitable processes. The processes can include methods to reduce the dimensionality of the dataset, select variables, identify distinct patterns in the dataset and build predictive models.\n",
    "\n",
    "## 1.4 Model Building\n",
    "\n",
    "The fourth phase involves executing the pipeline developed in the planning stage, and assessing the accuracy of subsequent models and the statistical relevance of the results. The team will create distinct datasets for training and testing to realistically evaluate the generalisability of the model to future data. This is also where the team can consider the feasibility of the model with regards to technological resources, and can decide whether more resources are required, such as better hardware, parallel processing or better algorithms. The resulting model and results should be used to evaluate the original hypothesis and address the business question, or to inform future work.\n",
    "\n",
    "## 1.5 Communicate Results\n",
    "\n",
    "This is where the team, in collaboration with key stakeholders, should assess whether the project was a success based on the original problem and on the framework developed in phase 1. The team should summarise key findings and attempt to quantify the business impact. Importantly, the team should develop a data-driven narrative, making use of informative visualisations, to communicate the key findings to stakeholders.\n",
    "\n",
    "## 1.6 Operationalise\n",
    "\n",
    "In the final phase, any final reports, briefings, code, and technical documents are delivered. The team communicates the results of the project more broadly and may run a pilot program to implement the models in a production environment."
   ]
  }
 ],
 "metadata": {
  "kernelspec": {
   "display_name": "R",
   "language": "R",
   "name": "ir"
  },
  "language_info": {
   "codemirror_mode": "r",
   "file_extension": ".r",
   "mimetype": "text/x-r-source",
   "name": "R",
   "pygments_lexer": "r",
   "version": "3.6.1"
  }
 },
 "nbformat": 4,
 "nbformat_minor": 2
}
